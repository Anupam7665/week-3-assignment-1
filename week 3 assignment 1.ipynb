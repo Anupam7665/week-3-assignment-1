{
 "cells": [
  {
   "cell_type": "markdown",
   "id": "6b75ae56-6ab8-472b-9a0e-b6b8d982eaee",
   "metadata": {},
   "source": [
    "### Q1. Which keyword is used to create a function? Create a function to return a list of odd numbers in the\n",
    "### range of 1 to 25."
   ]
  },
  {
   "cell_type": "markdown",
   "id": "6136092d-3107-4c32-89c1-1f1102601c8a",
   "metadata": {},
   "source": [
    "The define ( def ) keyword is used to create a function."
   ]
  },
  {
   "cell_type": "code",
   "execution_count": 1,
   "id": "70311d8a-2688-4ca5-a453-cd570eb0cde8",
   "metadata": {},
   "outputs": [],
   "source": [
    "# Code\n",
    "\n",
    "def odd_number():\n",
    "    odd_list=[]\n",
    "    for i in range(1,26):\n",
    "        if i%2!=0:\n",
    "            odd_list.append(i)\n",
    "    return odd_list\n",
    "        \n"
   ]
  },
  {
   "cell_type": "code",
   "execution_count": 2,
   "id": "fc6738a8-db7a-45f5-9c66-b50ed8a6510e",
   "metadata": {},
   "outputs": [
    {
     "data": {
      "text/plain": [
       "[1, 3, 5, 7, 9, 11, 13, 15, 17, 19, 21, 23, 25]"
      ]
     },
     "execution_count": 2,
     "metadata": {},
     "output_type": "execute_result"
    }
   ],
   "source": [
    " odd_number()"
   ]
  },
  {
   "cell_type": "markdown",
   "id": "572300bf-0693-4846-85d6-bfb8c1d61731",
   "metadata": {},
   "source": [
    "### Q2. Why *args and **kwargs is used in some functions? Create a function each for *args and **kwargs\n",
    "### to demonstrate their use."
   ]
  },
  {
   "cell_type": "markdown",
   "id": "532808de-2f29-4eac-83fc-e8ccb1b64557",
   "metadata": {},
   "source": [
    "*args is used to pass the comment and arguments to the function.\n",
    "\n",
    "\n",
    "**kwargs is used to to achieve the output as key and value form which is also known as dictionary."
   ]
  },
  {
   "cell_type": "code",
   "execution_count": 3,
   "id": "ffb7343f-df68-4d7b-ae11-d9e9c953e4f4",
   "metadata": {},
   "outputs": [],
   "source": [
    "#args eg\n",
    "def test(*args):\n",
    "    return args"
   ]
  },
  {
   "cell_type": "code",
   "execution_count": 4,
   "id": "13d9093c-325b-4919-81b4-699096c23263",
   "metadata": {},
   "outputs": [
    {
     "data": {
      "text/plain": [
       "(4, 5, 6, 8)"
      ]
     },
     "execution_count": 4,
     "metadata": {},
     "output_type": "execute_result"
    }
   ],
   "source": [
    "test(4,5,6,8)"
   ]
  },
  {
   "cell_type": "code",
   "execution_count": 5,
   "id": "9d94283c-b884-4757-bd65-708c1437e290",
   "metadata": {},
   "outputs": [],
   "source": [
    "#kwargs eg\n",
    "\n",
    "def test2(**kwargs):\n",
    "    return kwargs"
   ]
  },
  {
   "cell_type": "code",
   "execution_count": 6,
   "id": "5ff2e298-b94b-4804-b0a1-1ae84dd753e3",
   "metadata": {},
   "outputs": [
    {
     "data": {
      "text/plain": [
       "{}"
      ]
     },
     "execution_count": 6,
     "metadata": {},
     "output_type": "execute_result"
    }
   ],
   "source": [
    "test2()"
   ]
  },
  {
   "cell_type": "code",
   "execution_count": 7,
   "id": "5729094b-b2f1-44a8-867e-378bc8a6e5ef",
   "metadata": {},
   "outputs": [
    {
     "data": {
      "text/plain": [
       "{'a': (24, 32, 442), 'b': 'anup', 'c': [1, 2, 3, 4]}"
      ]
     },
     "execution_count": 7,
     "metadata": {},
     "output_type": "execute_result"
    }
   ],
   "source": [
    "test2(a=(24,32,442),b=\"anup\",c=[1,2,3,4])"
   ]
  },
  {
   "cell_type": "markdown",
   "id": "769cfc21-8bd9-4fda-86cd-a852e37935fb",
   "metadata": {
    "tags": []
   },
   "source": [
    "### Q3 What is an iterator in python? Name the method used to initialise the iterator object and the method\n",
    "### used for iteration. Use these methods to print the first five elements of the given list [2, 4, 6, 8, 10, 12, 14,\n",
    "### 16, 18, 20]."
   ]
  },
  {
   "cell_type": "markdown",
   "id": "d7ea43ae-b1ba-47ac-bd89-24d705f1260d",
   "metadata": {},
   "source": [
    "An iterate in python is an object that allow you to iterate over an iteratble object.\n",
    "\n",
    "iter() method is used to initialise the iterator object.\n",
    "\n",
    "next() method is used for iteration"
   ]
  },
  {
   "cell_type": "code",
   "execution_count": 8,
   "id": "03355106-d90a-4897-a8b3-d120d32bec56",
   "metadata": {},
   "outputs": [
    {
     "name": "stdout",
     "output_type": "stream",
     "text": [
      "2\n",
      "4\n",
      "6\n",
      "8\n",
      "10\n"
     ]
    }
   ],
   "source": [
    "num_list = [2, 4, 6, 8, 10, 12, 14, 16, 18, 20]\n",
    "num_iter = iter(num_list)\n",
    "for i in range(5):\n",
    "    num = next(num_iter)\n",
    "    print(num)\n",
    "\n"
   ]
  },
  {
   "cell_type": "markdown",
   "id": "48618923-763d-431b-9229-f9d73f0494bc",
   "metadata": {},
   "source": [
    "##"
   ]
  },
  {
   "cell_type": "markdown",
   "id": "eaabb114-4313-44c2-8ed5-494b4b91b615",
   "metadata": {},
   "source": [
    "\n",
    "### Q4 What is a generator function in python? Why yield keyword is used? Give an example of a generator function.\n"
   ]
  },
  {
   "cell_type": "markdown",
   "id": "db4716a2-ad2e-4d24-89d3-54f4b5dc9188",
   "metadata": {},
   "source": [
    "A generator function that generates a sequences of value.\n",
    "\n",
    "yield statement is used to produce the values from the generator"
   ]
  },
  {
   "cell_type": "code",
   "execution_count": 9,
   "id": "d5944b95-d595-4023-860c-cc719e21a27f",
   "metadata": {},
   "outputs": [],
   "source": [
    "#code\n",
    "\n",
    "def my_generator(n):\n",
    "    value = 0\n",
    "    while value < n:\n",
    "        yield value\n",
    "        value += 1\n",
    "\n"
   ]
  },
  {
   "cell_type": "code",
   "execution_count": 10,
   "id": "a1e81307-e473-4f04-84b0-8ce3935a88d8",
   "metadata": {},
   "outputs": [
    {
     "name": "stdout",
     "output_type": "stream",
     "text": [
      "0\n",
      "1\n",
      "2\n"
     ]
    }
   ],
   "source": [
    "gen = my_generator(3)\n",
    "print(next(gen)) \n",
    "print(next(gen)) \n",
    "print(next(gen))"
   ]
  },
  {
   "cell_type": "markdown",
   "id": "724d0158-9e5e-43fc-b76b-c664680ce4c1",
   "metadata": {},
   "source": [
    "### Q5 Create a generator function for prime numbers less than 1000. Use the next() method to print the\n",
    "### first 20 prime numbers."
   ]
  },
  {
   "cell_type": "code",
   "execution_count": 11,
   "id": "1f75c938-6f49-4041-b0c8-24904563fdcc",
   "metadata": {},
   "outputs": [],
   "source": [
    "def is_prime(n):\n",
    "    if n < 2:\n",
    "        return False\n",
    "    if n == 2:\n",
    "        return True\n",
    "    \n",
    "    \n",
    "    \n",
    "    \n",
    "    for i in range(2,int(n**0.5) + 1):\n",
    "        if n % i == 0:\n",
    "            return False\n",
    "    return True\n",
    "\n",
    "\n",
    "def prime_generator():\n",
    "    n = 2\n",
    "    while n<1000:\n",
    "        if is_prime(n):\n",
    "            yield n\n",
    "        n += 1\n"
   ]
  },
  {
   "cell_type": "code",
   "execution_count": 12,
   "id": "89a984d4-4d2a-4d39-9d38-a6fb9af0b02e",
   "metadata": {},
   "outputs": [
    {
     "data": {
      "text/plain": [
       "[2, 3, 5, 7, 11, 13, 17, 19, 23, 29, 31, 37, 41, 43, 47, 53, 59, 61, 67, 71]"
      ]
     },
     "execution_count": 12,
     "metadata": {},
     "output_type": "execute_result"
    }
   ],
   "source": [
    "prime_gen = prime_generator()\n",
    "\n",
    "[next(prime_gen) for _ in range(20)]\n",
    "      "
   ]
  },
  {
   "cell_type": "markdown",
   "id": "1eca6206-7c66-4e82-929b-96ea7b122315",
   "metadata": {},
   "source": [
    "### Q6. Write a python program to print the first 10 Fibonacci numbers using a while loop."
   ]
  },
  {
   "cell_type": "code",
   "execution_count": 13,
   "id": "a21c36a7-0dbe-4708-94db-10fbfd651a3f",
   "metadata": {},
   "outputs": [
    {
     "name": "stdout",
     "output_type": "stream",
     "text": [
      "0\n",
      "1\n",
      "1\n",
      "2\n",
      "3\n",
      "5\n",
      "8\n",
      "13\n",
      "21\n",
      "34\n"
     ]
    }
   ],
   "source": [
    "a=0\n",
    "b=1\n",
    "count=0\n",
    "while count<10:\n",
    "    print(a)\n",
    "    c=a+b\n",
    "    a=b\n",
    "    b=c\n",
    "    count=count+1   \n",
    "\n",
    "    \n",
    "        "
   ]
  },
  {
   "cell_type": "markdown",
   "id": "f18b4d00-6e92-4702-836e-c52fbc6a7f8e",
   "metadata": {},
   "source": [
    "### Q7. Write a List Comprehension to iterate through the given string: ‘pwskills’.\n",
    "Expected output: ['p', 'w', 's', 'k', 'i', 'l', 'l', 's']"
   ]
  },
  {
   "cell_type": "code",
   "execution_count": 14,
   "id": "918ae948-12cb-408c-8443-8ad2010f2c31",
   "metadata": {},
   "outputs": [],
   "source": [
    "a= \"pwskills\""
   ]
  },
  {
   "cell_type": "code",
   "execution_count": 15,
   "id": "d3185372-93c3-4c75-898f-b219bcf1e684",
   "metadata": {},
   "outputs": [],
   "source": [
    "a1=(iter(a))"
   ]
  },
  {
   "cell_type": "code",
   "execution_count": 16,
   "id": "74cb7cd4-511c-4d62-8d06-94c7e12a2044",
   "metadata": {},
   "outputs": [
    {
     "name": "stdout",
     "output_type": "stream",
     "text": [
      "['p']\n",
      "['w']\n",
      "['s']\n",
      "['k']\n",
      "['i']\n",
      "['l']\n",
      "['l']\n",
      "['s']\n"
     ]
    }
   ],
   "source": [
    "for i in a1:\n",
    "    print (list(i))"
   ]
  },
  {
   "cell_type": "markdown",
   "id": "73196094-f4d1-4580-bb06-f170bf82de96",
   "metadata": {},
   "source": [
    "### Q8. Write a python program to check whether a given number is Palindrome or not using a while loop."
   ]
  },
  {
   "cell_type": "code",
   "execution_count": 33,
   "id": "e53e9f39-8646-44d7-869b-00ba4b984d42",
   "metadata": {},
   "outputs": [
    {
     "name": "stdin",
     "output_type": "stream",
     "text": [
      "enter the number 454\n"
     ]
    },
    {
     "name": "stdout",
     "output_type": "stream",
     "text": [
      "The number is palindrome\n"
     ]
    }
   ],
   "source": [
    "n =int(input(\"enter the number\"))\n",
    "\n",
    "temp=n\n",
    "rev=0\n",
    "\n",
    "while n > 0:\n",
    "    rem = n % 10\n",
    "    rev = rev * 10 + rem\n",
    "    n = n //10\n",
    "    \n",
    "if temp == rev:\n",
    "    print(\"The number is palindrome\")\n",
    "else:\n",
    "    print(\"The number is not palindrome\")\n"
   ]
  },
  {
   "cell_type": "markdown",
   "id": "cc9a87d2-ac11-44e4-a78d-5e807126f034",
   "metadata": {},
   "source": [
    "### Write a code to print odd numbers from 1 to 100 using list comprehension."
   ]
  },
  {
   "cell_type": "code",
   "execution_count": 36,
   "id": "4430e834-e3f6-4838-81c7-d21bc45b84fc",
   "metadata": {},
   "outputs": [],
   "source": [
    "numbers =[n for n in  range(1, 101)]\n",
    "odd_numbers = [n for n in numbers if n % 2 != 0]"
   ]
  },
  {
   "cell_type": "code",
   "execution_count": 37,
   "id": "8a7a6b4f-6465-41c8-94e3-8327d5bbe926",
   "metadata": {},
   "outputs": [
    {
     "name": "stdout",
     "output_type": "stream",
     "text": [
      "[1, 3, 5, 7, 9, 11, 13, 15, 17, 19, 21, 23, 25, 27, 29, 31, 33, 35, 37, 39, 41, 43, 45, 47, 49, 51, 53, 55, 57, 59, 61, 63, 65, 67, 69, 71, 73, 75, 77, 79, 81, 83, 85, 87, 89, 91, 93, 95, 97, 99]\n"
     ]
    }
   ],
   "source": [
    "print(odd_numbers)"
   ]
  },
  {
   "cell_type": "code",
   "execution_count": null,
   "id": "441d55da-fd41-48fe-9de1-1a729b1eabac",
   "metadata": {},
   "outputs": [],
   "source": []
  }
 ],
 "metadata": {
  "kernelspec": {
   "display_name": "Python 3 (ipykernel)",
   "language": "python",
   "name": "python3"
  },
  "language_info": {
   "codemirror_mode": {
    "name": "ipython",
    "version": 3
   },
   "file_extension": ".py",
   "mimetype": "text/x-python",
   "name": "python",
   "nbconvert_exporter": "python",
   "pygments_lexer": "ipython3",
   "version": "3.10.8"
  }
 },
 "nbformat": 4,
 "nbformat_minor": 5
}
